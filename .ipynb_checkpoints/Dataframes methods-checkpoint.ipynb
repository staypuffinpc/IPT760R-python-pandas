{
 "cells": [
  {
   "cell_type": "markdown",
   "metadata": {},
   "source": [
    "# .apply() method"
   ]
  },
  {
   "cell_type": "code",
   "execution_count": 19,
   "metadata": {},
   "outputs": [],
   "source": [
    "#import needed library and data\n",
    "import pandas as pd\n",
    "def setUp():\n",
    "    bond = pd.read_csv(\"../data/pandas/jamesbond.csv\",index_col=\"Film\")\n",
    "    bond.sort_index(inplace = True)\n",
    "    bond.head(3)"
   ]
  },
  {
   "cell_type": "markdown",
   "metadata": {},
   "source": [
    "## use an .apply method on an entire column (or columns!).\n",
    "little bit of code, lots of power."
   ]
  },
  {
   "cell_type": "code",
   "execution_count": 10,
   "metadata": {},
   "outputs": [],
   "source": [
    "#convert col names to strings\n",
    "def convertToStringAndAddMillions(num):\n",
    "    return \"$\"+str(num) + \" million\""
   ]
  },
  {
   "cell_type": "code",
   "execution_count": 12,
   "metadata": {},
   "outputs": [],
   "source": [
    "columns = [\"Box Office\", \"Budget\", \"Bond Actor Salary\"]# bond[\"Budget\"] = bond[\"Budget\"].apply(convertToStringAndAddMillions)"
   ]
  },
  {
   "cell_type": "code",
   "execution_count": 15,
   "metadata": {},
   "outputs": [],
   "source": [
    "for col in columns:\n",
    "    bond[col] = bond[col].apply(convertToStringAndAddMillions)"
   ]
  },
  {
   "cell_type": "code",
   "execution_count": 16,
   "metadata": {},
   "outputs": [
    {
     "data": {
      "text/html": [
       "<div>\n",
       "<style scoped>\n",
       "    .dataframe tbody tr th:only-of-type {\n",
       "        vertical-align: middle;\n",
       "    }\n",
       "\n",
       "    .dataframe tbody tr th {\n",
       "        vertical-align: top;\n",
       "    }\n",
       "\n",
       "    .dataframe thead th {\n",
       "        text-align: right;\n",
       "    }\n",
       "</style>\n",
       "<table border=\"1\" class=\"dataframe\">\n",
       "  <thead>\n",
       "    <tr style=\"text-align: right;\">\n",
       "      <th></th>\n",
       "      <th>Year</th>\n",
       "      <th>Actor</th>\n",
       "      <th>Director</th>\n",
       "      <th>Box Office</th>\n",
       "      <th>Budget</th>\n",
       "      <th>Bond Actor Salary</th>\n",
       "    </tr>\n",
       "    <tr>\n",
       "      <th>Film</th>\n",
       "      <th></th>\n",
       "      <th></th>\n",
       "      <th></th>\n",
       "      <th></th>\n",
       "      <th></th>\n",
       "      <th></th>\n",
       "    </tr>\n",
       "  </thead>\n",
       "  <tbody>\n",
       "    <tr>\n",
       "      <th>A View to a Kill</th>\n",
       "      <td>1985</td>\n",
       "      <td>Roger Moore</td>\n",
       "      <td>John Glen</td>\n",
       "      <td>$275.2 million</td>\n",
       "      <td>$54.5 million</td>\n",
       "      <td>$9.1 million</td>\n",
       "    </tr>\n",
       "    <tr>\n",
       "      <th>Casino Royale</th>\n",
       "      <td>2006</td>\n",
       "      <td>Daniel Craig</td>\n",
       "      <td>Martin Campbell</td>\n",
       "      <td>$581.5 million</td>\n",
       "      <td>$145.3 million</td>\n",
       "      <td>$3.3 million</td>\n",
       "    </tr>\n",
       "    <tr>\n",
       "      <th>Casino Royale</th>\n",
       "      <td>1967</td>\n",
       "      <td>David Niven</td>\n",
       "      <td>Ken Hughes</td>\n",
       "      <td>$315.0 million</td>\n",
       "      <td>$85.0 million</td>\n",
       "      <td>$nan million</td>\n",
       "    </tr>\n",
       "    <tr>\n",
       "      <th>Diamonds Are Forever</th>\n",
       "      <td>1971</td>\n",
       "      <td>Sean Connery</td>\n",
       "      <td>Guy Hamilton</td>\n",
       "      <td>$442.5 million</td>\n",
       "      <td>$34.7 million</td>\n",
       "      <td>$5.8 million</td>\n",
       "    </tr>\n",
       "    <tr>\n",
       "      <th>Die Another Day</th>\n",
       "      <td>2002</td>\n",
       "      <td>Pierce Brosnan</td>\n",
       "      <td>Lee Tamahori</td>\n",
       "      <td>$465.4 million</td>\n",
       "      <td>$154.2 million</td>\n",
       "      <td>$17.9 million</td>\n",
       "    </tr>\n",
       "    <tr>\n",
       "      <th>Dr. No</th>\n",
       "      <td>1962</td>\n",
       "      <td>Sean Connery</td>\n",
       "      <td>Terence Young</td>\n",
       "      <td>$448.8 million</td>\n",
       "      <td>$7.0 million</td>\n",
       "      <td>$0.6 million</td>\n",
       "    </tr>\n",
       "    <tr>\n",
       "      <th>For Your Eyes Only</th>\n",
       "      <td>1981</td>\n",
       "      <td>Roger Moore</td>\n",
       "      <td>John Glen</td>\n",
       "      <td>$449.4 million</td>\n",
       "      <td>$60.2 million</td>\n",
       "      <td>$nan million</td>\n",
       "    </tr>\n",
       "    <tr>\n",
       "      <th>From Russia with Love</th>\n",
       "      <td>1963</td>\n",
       "      <td>Sean Connery</td>\n",
       "      <td>Terence Young</td>\n",
       "      <td>$543.8 million</td>\n",
       "      <td>$12.6 million</td>\n",
       "      <td>$1.6 million</td>\n",
       "    </tr>\n",
       "    <tr>\n",
       "      <th>GoldenEye</th>\n",
       "      <td>1995</td>\n",
       "      <td>Pierce Brosnan</td>\n",
       "      <td>Martin Campbell</td>\n",
       "      <td>$518.5 million</td>\n",
       "      <td>$76.9 million</td>\n",
       "      <td>$5.1 million</td>\n",
       "    </tr>\n",
       "    <tr>\n",
       "      <th>Goldfinger</th>\n",
       "      <td>1964</td>\n",
       "      <td>Sean Connery</td>\n",
       "      <td>Guy Hamilton</td>\n",
       "      <td>$820.4 million</td>\n",
       "      <td>$18.6 million</td>\n",
       "      <td>$3.2 million</td>\n",
       "    </tr>\n",
       "  </tbody>\n",
       "</table>\n",
       "</div>"
      ],
      "text/plain": [
       "                       Year           Actor         Director      Box Office  \\\n",
       "Film                                                                           \n",
       "A View to a Kill       1985     Roger Moore        John Glen  $275.2 million   \n",
       "Casino Royale          2006    Daniel Craig  Martin Campbell  $581.5 million   \n",
       "Casino Royale          1967     David Niven       Ken Hughes  $315.0 million   \n",
       "Diamonds Are Forever   1971    Sean Connery     Guy Hamilton  $442.5 million   \n",
       "Die Another Day        2002  Pierce Brosnan     Lee Tamahori  $465.4 million   \n",
       "Dr. No                 1962    Sean Connery    Terence Young  $448.8 million   \n",
       "For Your Eyes Only     1981     Roger Moore        John Glen  $449.4 million   \n",
       "From Russia with Love  1963    Sean Connery    Terence Young  $543.8 million   \n",
       "GoldenEye              1995  Pierce Brosnan  Martin Campbell  $518.5 million   \n",
       "Goldfinger             1964    Sean Connery     Guy Hamilton  $820.4 million   \n",
       "\n",
       "                               Budget Bond Actor Salary  \n",
       "Film                                                     \n",
       "A View to a Kill        $54.5 million      $9.1 million  \n",
       "Casino Royale          $145.3 million      $3.3 million  \n",
       "Casino Royale           $85.0 million      $nan million  \n",
       "Diamonds Are Forever    $34.7 million      $5.8 million  \n",
       "Die Another Day        $154.2 million     $17.9 million  \n",
       "Dr. No                   $7.0 million      $0.6 million  \n",
       "For Your Eyes Only      $60.2 million      $nan million  \n",
       "From Russia with Love   $12.6 million      $1.6 million  \n",
       "GoldenEye               $76.9 million      $5.1 million  \n",
       "Goldfinger              $18.6 million      $3.2 million  "
      ]
     },
     "execution_count": 16,
     "metadata": {},
     "output_type": "execute_result"
    }
   ],
   "source": [
    "#check to see how everything was changed in the original dataframe\n",
    "bond.head(10)"
   ]
  },
  {
   "cell_type": "markdown",
   "metadata": {},
   "source": [
    "## Using .apply() with Row Values"
   ]
  },
  {
   "cell_type": "code",
   "execution_count": 20,
   "metadata": {},
   "outputs": [],
   "source": [
    "#reset data\n",
    "setUp()"
   ]
  },
  {
   "cell_type": "code",
   "execution_count": 21,
   "metadata": {},
   "outputs": [
    {
     "data": {
      "text/plain": [
       "Film\n",
       "A View to a Kill                   Not even worth it.\n",
       "Casino Royale                      Not even worth it.\n",
       "Casino Royale                      Not even worth it.\n",
       "Diamonds Are Forever               Not even worth it.\n",
       "Die Another Day                             The worst\n",
       "Dr. No                             Not even worth it.\n",
       "For Your Eyes Only                 Not even worth it.\n",
       "From Russia with Love              Not even worth it.\n",
       "GoldenEye                                   The worst\n",
       "Goldfinger                         Not even worth it.\n",
       "Licence to Kill                    Not even worth it.\n",
       "Live and Let Die                   Not even worth it.\n",
       "Moonraker                          Not even worth it.\n",
       "Never Say Never Again                      Good flick\n",
       "Octopussy                          Not even worth it.\n",
       "On Her Majesty's Secret Service    Not even worth it.\n",
       "Quantum of Solace                  Not even worth it.\n",
       "Skyfall                            Not even worth it.\n",
       "Spectre                            Not even worth it.\n",
       "The Living Daylights               Not even worth it.\n",
       "The Man with the Golden Gun        Not even worth it.\n",
       "The Spy Who Loved Me               Not even worth it.\n",
       "The World Is Not Enough                     The worst\n",
       "Thunderball                                Good flick\n",
       "Tomorrow Never Dies                         The worst\n",
       "You Only Live Twice                        Good flick\n",
       "dtype: object"
      ]
     },
     "execution_count": 21,
     "metadata": {},
     "output_type": "execute_result"
    }
   ],
   "source": [
    "def goodMovie(row):\n",
    "    \n",
    "    actor = row[1]\n",
    "    budget = row[4]\n",
    "    \n",
    "    if actor == 'Pierce Brosnan':\n",
    "        return \"The worst\"\n",
    "    elif actor == \"Sean Connery\" and budget > 40:\n",
    "        return \"Good flick\"\n",
    "    else:\n",
    "        return \"Not even worth it.\"\n",
    "\n",
    "#apply to each row using the axis parameter\n",
    "bond.apply(goodMovie, axis=\"columns\")"
   ]
  },
  {
   "cell_type": "markdown",
   "metadata": {},
   "source": [
    "# .copy method"
   ]
  },
  {
   "cell_type": "code",
   "execution_count": 24,
   "metadata": {},
   "outputs": [],
   "source": [
    "setUp()"
   ]
  },
  {
   "cell_type": "code",
   "execution_count": 29,
   "metadata": {},
   "outputs": [
    {
     "data": {
      "text/plain": [
       "Film\n",
       "A View to a Kill               John Glen\n",
       "Casino Royale            Martin Campbell\n",
       "Casino Royale                 Ken Hughes\n",
       "Diamonds Are Forever        Guy Hamilton\n",
       "Die Another Day             Lee Tamahori\n",
       "Dr. No                     Terence Young\n",
       "For Your Eyes Only             John Glen\n",
       "From Russia with Love      Terence Young\n",
       "GoldenEye                Martin Campbell\n",
       "Goldfinger                  Guy Hamilton\n",
       "Name: Director, dtype: object"
      ]
     },
     "execution_count": 29,
     "metadata": {},
     "output_type": "execute_result"
    }
   ],
   "source": [
    "#let's look at a bit of our data to begin with\n",
    "directors = bond[\"Director\"]\n",
    "directors.head(10)"
   ]
  },
  {
   "cell_type": "code",
   "execution_count": 33,
   "metadata": {},
   "outputs": [
    {
     "data": {
      "text/plain": [
       "Film\n",
       "A View to a Kill               John Glen\n",
       "Casino Royale            Martin Campbell\n",
       "Casino Royale                 Ken Hughes\n",
       "Diamonds Are Forever        Guy Hamilton\n",
       "Die Another Day             Lee Tamahori\n",
       "Dr. No                     Terence Young\n",
       "For Your Eyes Only             John Glen\n",
       "From Russia with Love      Terence Young\n",
       "GoldenEye                Martin Campbell\n",
       "Goldfinger                  Guy Hamilton\n",
       "Name: Director, dtype: object"
      ]
     },
     "execution_count": 33,
     "metadata": {},
     "output_type": "execute_result"
    }
   ],
   "source": [
    "directors['A View to Kill'] = \"Mr. John Glen\" #notice that you get a warning.  This operation will change the original dataframe.\n",
    "directors.head(10)"
   ]
  },
  {
   "cell_type": "code",
   "execution_count": null,
   "metadata": {},
   "outputs": [],
   "source": [
    "# in order to not overwrite the orignal data, make a copy of a specific series and manipulate the copy instead.\n"
   ]
  }
 ],
 "metadata": {
  "kernelspec": {
   "display_name": "Python 3",
   "language": "python",
   "name": "python3"
  },
  "language_info": {
   "codemirror_mode": {
    "name": "ipython",
    "version": 3
   },
   "file_extension": ".py",
   "mimetype": "text/x-python",
   "name": "python",
   "nbconvert_exporter": "python",
   "pygments_lexer": "ipython3",
   "version": "3.6.6"
  }
 },
 "nbformat": 4,
 "nbformat_minor": 2
}
