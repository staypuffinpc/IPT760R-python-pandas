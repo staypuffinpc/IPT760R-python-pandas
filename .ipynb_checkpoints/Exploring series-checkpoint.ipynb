{
 "cells": [
  {
   "cell_type": "markdown",
   "metadata": {},
   "source": [
    "# Exploring series data\n",
    "A series is a 1-dimensional array of a sequence of data.  It can consist of any data type.  "
   ]
  },
  {
   "cell_type": "code",
   "execution_count": 1,
   "metadata": {},
   "outputs": [],
   "source": [
    "import pandas as pd"
   ]
  },
  {
   "cell_type": "code",
   "execution_count": 2,
   "metadata": {},
   "outputs": [],
   "source": [
    "#tell pandas what we want the values to be\n",
    "desserts = [\"ice cream\",\"cookies\",\"cake\",\"shake\",\"smoothie\",\"baclava\",\"Turkish Delight\"]"
   ]
  },
  {
   "cell_type": "code",
   "execution_count": 3,
   "metadata": {},
   "outputs": [
    {
     "data": {
      "text/plain": [
       "0          ice cream\n",
       "1            cookies\n",
       "2               cake\n",
       "3              shake\n",
       "4           smoothie\n",
       "5            baclava\n",
       "6    Turkish Delight\n",
       "dtype: object"
      ]
     },
     "execution_count": 3,
     "metadata": {},
     "output_type": "execute_result"
    }
   ],
   "source": [
    "#call a series constructor method\n",
    "pd.Series(desserts)"
   ]
  },
  {
   "cell_type": "code",
   "execution_count": 49,
   "metadata": {},
   "outputs": [],
   "source": [
    "ages = [45,44,43,41,40,38,38,35,32,28]\n",
    "newAge = pd.Series(ages) \n",
    "\n",
    "#note that \"dtype\" refers to the data type of the values, not the index or overall object.  \"Object\" is a string data type."
   ]
  },
  {
   "cell_type": "code",
   "execution_count": 5,
   "metadata": {},
   "outputs": [
    {
     "data": {
      "text/plain": [
       "0    False\n",
       "1     True\n",
       "2    False\n",
       "3     True\n",
       "4     True\n",
       "5    False\n",
       "6    False\n",
       "7     True\n",
       "8    False\n",
       "9    False\n",
       "dtype: bool"
      ]
     },
     "execution_count": 5,
     "metadata": {},
     "output_type": "execute_result"
    }
   ],
   "source": [
    "cool = [False, True, False, True, True, False, False, True, False, False]\n",
    "pd.Series(cool)"
   ]
  },
  {
   "cell_type": "code",
   "execution_count": 6,
   "metadata": {},
   "outputs": [
    {
     "data": {
      "text/plain": [
       "onomotopeia                    writing out a sound as it sounds.\n",
       "metaphor       comparing two objects to each other without us...\n",
       "simile         comparing two objects to each other using 'lik...\n",
       "dtype: object"
      ]
     },
     "execution_count": 6,
     "metadata": {},
     "output_type": "execute_result"
    }
   ],
   "source": [
    "# You can turn a dictionary into a series, too\n",
    "definitions = {\"onomotopeia\": \"writing out a sound as it sounds.\",\n",
    "              \"metaphor\" : \"comparing two objects to each other without using 'like' or 'as'\",\n",
    "               \"simile\" : \"comparing two objects to each other using 'like' or 'as'\"\n",
    "              }\n",
    "pd.Series(definitions)"
   ]
  },
  {
   "cell_type": "markdown",
   "metadata": {},
   "source": [
    "### Attributes"
   ]
  },
  {
   "cell_type": "markdown",
   "metadata": {},
   "source": [
    "attributes are values or properties of an object that are readable."
   ]
  },
  {
   "cell_type": "code",
   "execution_count": 7,
   "metadata": {},
   "outputs": [
    {
     "data": {
      "text/plain": [
       "0             Smart\n",
       "1          Handsome\n",
       "2           Awesome\n",
       "3           Haughty\n",
       "4              Slow\n",
       "5    Procrastinator\n",
       "dtype: object"
      ]
     },
     "execution_count": 7,
     "metadata": {},
     "output_type": "execute_result"
    }
   ],
   "source": [
    "about_me = [\"Smart\",\"Handsome\",\"Awesome\",\"Haughty\",\"Slow\",\"Procrastinator\"]\n",
    "attributes = pd.Series(about_me)\n",
    "attributes"
   ]
  },
  {
   "cell_type": "markdown",
   "metadata": {},
   "source": [
    "type the name of the object, then type \".\", then hit the \"tab\" key to see what you can do with that object"
   ]
  },
  {
   "cell_type": "code",
   "execution_count": 8,
   "metadata": {},
   "outputs": [
    {
     "data": {
      "text/plain": [
       "array(['Smart', 'Handsome', 'Awesome', 'Haughty', 'Slow',\n",
       "       'Procrastinator'], dtype=object)"
      ]
     },
     "execution_count": 8,
     "metadata": {},
     "output_type": "execute_result"
    }
   ],
   "source": [
    "attributes.values"
   ]
  },
  {
   "cell_type": "code",
   "execution_count": 9,
   "metadata": {},
   "outputs": [
    {
     "data": {
      "text/plain": [
       "RangeIndex(start=0, stop=6, step=1)"
      ]
     },
     "execution_count": 9,
     "metadata": {},
     "output_type": "execute_result"
    }
   ],
   "source": [
    "attributes.index #summary info about the object"
   ]
  },
  {
   "cell_type": "code",
   "execution_count": 10,
   "metadata": {},
   "outputs": [
    {
     "data": {
      "text/plain": [
       "dtype('O')"
      ]
     },
     "execution_count": 10,
     "metadata": {},
     "output_type": "execute_result"
    }
   ],
   "source": [
    "attributes.dtype # see what kind of data this is "
   ]
  },
  {
   "cell_type": "code",
   "execution_count": 44,
   "metadata": {},
   "outputs": [
    {
     "data": {
      "text/plain": [
       "1"
      ]
     },
     "execution_count": 44,
     "metadata": {},
     "output_type": "execute_result"
    }
   ],
   "source": [
    "#ndim to get the number dimensions (always 1 for a series.  Will be different for a dataframe)\n",
    "attributes.ndim"
   ]
  },
  {
   "cell_type": "code",
   "execution_count": 45,
   "metadata": {},
   "outputs": [
    {
     "data": {
      "text/plain": [
       "(6,)"
      ]
     },
     "execution_count": 45,
     "metadata": {},
     "output_type": "execute_result"
    }
   ],
   "source": [
    "#see the 'shape' of the data\n",
    "attributes.shape"
   ]
  },
  {
   "cell_type": "code",
   "execution_count": 47,
   "metadata": {},
   "outputs": [
    {
     "ename": "AttributeError",
     "evalue": "'list' object has no attribute 'shape'",
     "output_type": "error",
     "traceback": [
      "\u001b[0;31m---------------------------------------------------------------------------\u001b[0m",
      "\u001b[0;31mAttributeError\u001b[0m                            Traceback (most recent call last)",
      "\u001b[0;32m<ipython-input-47-889e8ca948e8>\u001b[0m in \u001b[0;36m<module>\u001b[0;34m()\u001b[0m\n\u001b[0;32m----> 1\u001b[0;31m \u001b[0mprices\u001b[0m\u001b[0;34m.\u001b[0m\u001b[0mshape\u001b[0m \u001b[0;31m#note that lists don't have a 'shape'.  It must be a pandas object, such as a series or dataframe.\u001b[0m\u001b[0;34m\u001b[0m\u001b[0m\n\u001b[0m",
      "\u001b[0;31mAttributeError\u001b[0m: 'list' object has no attribute 'shape'"
     ]
    }
   ],
   "source": [
    "prices.shape #note that lists don't have a 'shape'.  It must be a pandas object, such as a series or dataframe."
   ]
  },
  {
   "cell_type": "code",
   "execution_count": 50,
   "metadata": {},
   "outputs": [
    {
     "data": {
      "text/plain": [
       "(10,)"
      ]
     },
     "execution_count": 50,
     "metadata": {},
     "output_type": "execute_result"
    }
   ],
   "source": [
    "newAge.shape"
   ]
  },
  {
   "cell_type": "code",
   "execution_count": 52,
   "metadata": {},
   "outputs": [
    {
     "data": {
      "text/plain": [
       "6"
      ]
     },
     "execution_count": 52,
     "metadata": {},
     "output_type": "execute_result"
    }
   ],
   "source": [
    "attributes.size #check the total vlues in the list.  This will count null values"
   ]
  },
  {
   "cell_type": "code",
   "execution_count": 53,
   "metadata": {},
   "outputs": [
    {
     "data": {
      "text/plain": [
       "10"
      ]
     },
     "execution_count": 53,
     "metadata": {},
     "output_type": "execute_result"
    }
   ],
   "source": [
    "newAge.size"
   ]
  },
  {
   "cell_type": "code",
   "execution_count": 55,
   "metadata": {},
   "outputs": [],
   "source": [
    "attributes.name = \"Stuff\" #create a name attribute to refer to the series"
   ]
  },
  {
   "cell_type": "code",
   "execution_count": 56,
   "metadata": {},
   "outputs": [
    {
     "data": {
      "text/plain": [
       "'Stuff'"
      ]
     },
     "execution_count": 56,
     "metadata": {},
     "output_type": "execute_result"
    }
   ],
   "source": [
    "attributes.name"
   ]
  },
  {
   "cell_type": "markdown",
   "metadata": {},
   "source": [
    "### Series methods"
   ]
  },
  {
   "cell_type": "code",
   "execution_count": 11,
   "metadata": {},
   "outputs": [
    {
     "data": {
      "text/plain": [
       "[3.78, 4.25, 8.45, 1.75, 2.89, 10.34, 24.17]"
      ]
     },
     "execution_count": 11,
     "metadata": {},
     "output_type": "execute_result"
    }
   ],
   "source": [
    "prices = [3.78, 4.25, 8.45, 1.75, 2.89, 10.34, 24.17]\n",
    "series = pd.Series(prices)\n",
    "prices"
   ]
  },
  {
   "cell_type": "code",
   "execution_count": 12,
   "metadata": {},
   "outputs": [
    {
     "data": {
      "text/plain": [
       "55.629999999999995"
      ]
     },
     "execution_count": 12,
     "metadata": {},
     "output_type": "execute_result"
    }
   ],
   "source": [
    "#add up everything in the series\n",
    "series.sum()"
   ]
  },
  {
   "cell_type": "code",
   "execution_count": 13,
   "metadata": {},
   "outputs": [
    {
     "data": {
      "text/plain": [
       "171581.52340816983"
      ]
     },
     "execution_count": 13,
     "metadata": {},
     "output_type": "execute_result"
    }
   ],
   "source": [
    "series.product()"
   ]
  },
  {
   "cell_type": "code",
   "execution_count": 14,
   "metadata": {},
   "outputs": [
    {
     "data": {
      "text/plain": [
       "7.947142857142857"
      ]
     },
     "execution_count": 14,
     "metadata": {},
     "output_type": "execute_result"
    }
   ],
   "source": [
    "series.mean()"
   ]
  },
  {
   "cell_type": "code",
   "execution_count": 15,
   "metadata": {},
   "outputs": [
    {
     "data": {
      "text/plain": [
       "7.947142857142857"
      ]
     },
     "execution_count": 15,
     "metadata": {},
     "output_type": "execute_result"
    }
   ],
   "source": [
    "series.mean()"
   ]
  },
  {
   "cell_type": "markdown",
   "metadata": {},
   "source": [
    "### Parameters and Arguments\n"
   ]
  },
  {
   "cell_type": "code",
   "execution_count": 18,
   "metadata": {},
   "outputs": [
    {
     "data": {
      "text/plain": [
       "Series([], dtype: float64)"
      ]
     },
     "execution_count": 18,
     "metadata": {},
     "output_type": "execute_result"
    }
   ],
   "source": [
    "fruits = [\"apple\",\"orange\",\"banana\", \"jaca\", \"jabuticaba\",\"blueberry\",\"qumqwat\"]\n",
    "weekdays = [\"Sunday\",\"Monday\", \"Tuesday\",\"Wednesday\",\"Thursday\",\"Friday\",\"Saturday\"]\n",
    "pd.Series(fruits, weekdays) #hold down Shift + Tab to see parameters\n",
    "pd.Series(data = fruits, index = weekdays)\n",
    "pd.Series()"
   ]
  },
  {
   "cell_type": "markdown",
   "metadata": {},
   "source": [
    "### The inplace Parameter\n",
    "this will overwrite the original data with whatever change you're making to the data"
   ]
  },
  {
   "cell_type": "code",
   "execution_count": 60,
   "metadata": {},
   "outputs": [
    {
     "data": {
      "text/plain": [
       "6    24.17\n",
       "5    10.34\n",
       "2     8.45\n",
       "1     4.25\n",
       "0     3.78\n",
       "4     2.89\n",
       "3     1.75\n",
       "dtype: float64"
      ]
     },
     "execution_count": 60,
     "metadata": {},
     "output_type": "execute_result"
    }
   ],
   "source": [
    "series.sort_values(ascending = False, inplace = True)\n",
    "series"
   ]
  },
  {
   "cell_type": "markdown",
   "metadata": {},
   "source": [
    "## Pandas plays nicely with built-in python methods."
   ]
  },
  {
   "cell_type": "code",
   "execution_count": 34,
   "metadata": {},
   "outputs": [
    {
     "data": {
      "text/plain": [
       "7"
      ]
     },
     "execution_count": 34,
     "metadata": {},
     "output_type": "execute_result"
    }
   ],
   "source": [
    "len(prices)"
   ]
  },
  {
   "cell_type": "code",
   "execution_count": 37,
   "metadata": {
    "collapsed": true
   },
   "outputs": [
    {
     "data": {
      "text/plain": [
       "['__add__',\n",
       " '__class__',\n",
       " '__contains__',\n",
       " '__delattr__',\n",
       " '__delitem__',\n",
       " '__dir__',\n",
       " '__doc__',\n",
       " '__eq__',\n",
       " '__format__',\n",
       " '__ge__',\n",
       " '__getattribute__',\n",
       " '__getitem__',\n",
       " '__gt__',\n",
       " '__hash__',\n",
       " '__iadd__',\n",
       " '__imul__',\n",
       " '__init__',\n",
       " '__init_subclass__',\n",
       " '__iter__',\n",
       " '__le__',\n",
       " '__len__',\n",
       " '__lt__',\n",
       " '__mul__',\n",
       " '__ne__',\n",
       " '__new__',\n",
       " '__reduce__',\n",
       " '__reduce_ex__',\n",
       " '__repr__',\n",
       " '__reversed__',\n",
       " '__rmul__',\n",
       " '__setattr__',\n",
       " '__setitem__',\n",
       " '__sizeof__',\n",
       " '__str__',\n",
       " '__subclasshook__',\n",
       " 'append',\n",
       " 'clear',\n",
       " 'copy',\n",
       " 'count',\n",
       " 'extend',\n",
       " 'index',\n",
       " 'insert',\n",
       " 'pop',\n",
       " 'remove',\n",
       " 'reverse',\n",
       " 'sort']"
      ]
     },
     "execution_count": 37,
     "metadata": {},
     "output_type": "execute_result"
    }
   ],
   "source": [
    "dir(prices) #return all available methods (even hidden ones)"
   ]
  },
  {
   "cell_type": "code",
   "execution_count": 38,
   "metadata": {},
   "outputs": [
    {
     "data": {
      "text/plain": [
       "['Awesome', 'Handsome', 'Haughty', 'Procrastinator', 'Slow', 'Smart']"
      ]
     },
     "execution_count": 38,
     "metadata": {},
     "output_type": "execute_result"
    }
   ],
   "source": [
    "#sort the list\n",
    "sorted(attributes)"
   ]
  },
  {
   "cell_type": "code",
   "execution_count": 39,
   "metadata": {},
   "outputs": [
    {
     "data": {
      "text/plain": [
       "['Smart', 'Handsome', 'Awesome', 'Haughty', 'Slow', 'Procrastinator']"
      ]
     },
     "execution_count": 39,
     "metadata": {},
     "output_type": "execute_result"
    }
   ],
   "source": [
    "#convert to a python list\n",
    "list(attributes)"
   ]
  },
  {
   "cell_type": "code",
   "execution_count": 41,
   "metadata": {},
   "outputs": [
    {
     "data": {
      "text/plain": [
       "{0: 'Smart',\n",
       " 1: 'Handsome',\n",
       " 2: 'Awesome',\n",
       " 3: 'Haughty',\n",
       " 4: 'Slow',\n",
       " 5: 'Procrastinator'}"
      ]
     },
     "execution_count": 41,
     "metadata": {},
     "output_type": "execute_result"
    }
   ],
   "source": [
    "#convert a list to a dictionary\n",
    "dict(attributes)"
   ]
  },
  {
   "cell_type": "code",
   "execution_count": 42,
   "metadata": {},
   "outputs": [
    {
     "data": {
      "text/plain": [
       "24.17"
      ]
     },
     "execution_count": 42,
     "metadata": {},
     "output_type": "execute_result"
    }
   ],
   "source": [
    "# max\n",
    "max(prices)"
   ]
  },
  {
   "cell_type": "code",
   "execution_count": 43,
   "metadata": {},
   "outputs": [
    {
     "data": {
      "text/plain": [
       "1.75"
      ]
     },
     "execution_count": 43,
     "metadata": {},
     "output_type": "execute_result"
    }
   ],
   "source": [
    "# get min value\n",
    "min(prices)"
   ]
  },
  {
   "cell_type": "markdown",
   "metadata": {},
   "source": [
    "# the .read_csv() method"
   ]
  },
  {
   "cell_type": "code",
   "execution_count": 22,
   "metadata": {},
   "outputs": [
    {
     "data": {
      "text/plain": [
       "0       Bulbasaur\n",
       "1         Ivysaur\n",
       "2        Venusaur\n",
       "3      Charmander\n",
       "4      Charmeleon\n",
       "5       Charizard\n",
       "6        Squirtle\n",
       "7       Wartortle\n",
       "8       Blastoise\n",
       "9        Caterpie\n",
       "10        Metapod\n",
       "11     Butterfree\n",
       "12         Weedle\n",
       "13         Kakuna\n",
       "14       Beedrill\n",
       "15         Pidgey\n",
       "16      Pidgeotto\n",
       "17        Pidgeot\n",
       "18        Rattata\n",
       "19       Raticate\n",
       "20        Spearow\n",
       "21         Fearow\n",
       "22          Ekans\n",
       "23          Arbok\n",
       "24        Pikachu\n",
       "25         Raichu\n",
       "26      Sandshrew\n",
       "27      Sandslash\n",
       "28        Nidoran\n",
       "29       Nidorina\n",
       "          ...    \n",
       "691     Clauncher\n",
       "692     Clawitzer\n",
       "693    Helioptile\n",
       "694     Heliolisk\n",
       "695        Tyrunt\n",
       "696     Tyrantrum\n",
       "697        Amaura\n",
       "698       Aurorus\n",
       "699       Sylveon\n",
       "700      Hawlucha\n",
       "701       Dedenne\n",
       "702       Carbink\n",
       "703         Goomy\n",
       "704       Sliggoo\n",
       "705        Goodra\n",
       "706        Klefki\n",
       "707      Phantump\n",
       "708     Trevenant\n",
       "709     Pumpkaboo\n",
       "710     Gourgeist\n",
       "711      Bergmite\n",
       "712       Avalugg\n",
       "713        Noibat\n",
       "714       Noivern\n",
       "715       Xerneas\n",
       "716       Yveltal\n",
       "717       Zygarde\n",
       "718       Diancie\n",
       "719         Hoopa\n",
       "720     Volcanion\n",
       "Name: Pokemon, Length: 721, dtype: object"
      ]
     },
     "execution_count": 22,
     "metadata": {},
     "output_type": "execute_result"
    }
   ],
   "source": [
    "pd.read_csv(\"../data/pandas/pokemon.csv\", usecols = ['Pokemon'], squeeze = True) #hold SHIFT + TAB to see all the available parameters\n",
    "# usecols: takes a list of just the columns you want\n",
    "# squeeze: converts to a panda series"
   ]
  },
  {
   "cell_type": "code",
   "execution_count": 23,
   "metadata": {},
   "outputs": [],
   "source": [
    "googleData = pd.read_csv('../data/pandas/google_stock_price.csv', squeeze = True)"
   ]
  },
  {
   "cell_type": "markdown",
   "metadata": {},
   "source": [
    "# .head() and .tail() methods"
   ]
  },
  {
   "cell_type": "code",
   "execution_count": 27,
   "metadata": {},
   "outputs": [],
   "source": [
    "#get data\n",
    "def getData():\n",
    "    pokemon = pd.read_csv(\"../data/pandas/pokemon.csv\",usecols=['Pokemon'],squeeze=True)\n",
    "    google = pd.read_csv(\"../data/pandas/google_stock_price.csv\",squeeze=True)\n",
    "    return pokemon, google\n",
    "\n",
    "pokemon, google = getData()\n"
   ]
  },
  {
   "cell_type": "code",
   "execution_count": 33,
   "metadata": {},
   "outputs": [
    {
     "data": {
      "text/plain": [
       "0     Bulbasaur\n",
       "1       Ivysaur\n",
       "2      Venusaur\n",
       "3    Charmander\n",
       "4    Charmeleon\n",
       "Name: Pokemon, dtype: object"
      ]
     },
     "execution_count": 33,
     "metadata": {},
     "output_type": "execute_result"
    }
   ],
   "source": [
    "#check to see if data is in this scope\n",
    "pokemon.head(5) #gets first 5 rows.  Returns a COPY of new series"
   ]
  },
  {
   "cell_type": "code",
   "execution_count": 32,
   "metadata": {},
   "outputs": [
    {
     "data": {
      "text/plain": [
       "3007    772.88\n",
       "3008    771.07\n",
       "3009    773.18\n",
       "3010    771.61\n",
       "3011    782.22\n",
       "Name: Stock Price, dtype: float64"
      ]
     },
     "execution_count": 32,
     "metadata": {},
     "output_type": "execute_result"
    }
   ],
   "source": [
    "#check the end of this dataset\n",
    "google.tail(5)"
   ]
  },
  {
   "cell_type": "markdown",
   "metadata": {},
   "source": [
    "# .sort_values() method"
   ]
  },
  {
   "cell_type": "code",
   "execution_count": 57,
   "metadata": {},
   "outputs": [
    {
     "data": {
      "text/plain": [
       "11    49.95\n",
       "9     50.07\n",
       "0     50.12\n",
       "10    50.70\n",
       "12    50.74\n",
       "7     50.95\n",
       "14    51.10\n",
       "13    51.10\n",
       "8     51.13\n",
       "3     52.38\n",
       "Name: Stock Price, dtype: float64"
      ]
     },
     "execution_count": 57,
     "metadata": {},
     "output_type": "execute_result"
    }
   ],
   "source": [
    "#sort value in ascending order\n",
    "google.sort_values().head(10)"
   ]
  },
  {
   "cell_type": "code",
   "execution_count": 58,
   "metadata": {},
   "outputs": [
    {
     "data": {
      "text/plain": [
       "3011    782.22\n",
       "2859    776.60\n",
       "3009    773.18\n",
       "3007    772.88\n",
       "3010    771.61\n",
       "3008    771.07\n",
       "2860    771.00\n",
       "3006    768.79\n",
       "2840    767.04\n",
       "2843    766.81\n",
       "Name: Stock Price, dtype: float64"
      ]
     },
     "execution_count": 58,
     "metadata": {},
     "output_type": "execute_result"
    }
   ],
   "source": [
    "#get values in reverse order\n",
    "google.sort_values(ascending=False).head(10)"
   ]
  },
  {
   "cell_type": "markdown",
   "metadata": {},
   "source": [
    "# .sort_index() method\n",
    "you can sort the series by the index rather than the value.  This way you can always get the original order back."
   ]
  },
  {
   "cell_type": "code",
   "execution_count": 63,
   "metadata": {},
   "outputs": [
    {
     "data": {
      "text/plain": [
       "3011    782.22\n",
       "3010    771.61\n",
       "3009    773.18\n",
       "3008    771.07\n",
       "3007    772.88\n",
       "3006    768.79\n",
       "3005    745.91\n",
       "3004    741.77\n",
       "3003    738.42\n",
       "3002    739.77\n",
       "3001    742.74\n",
       "3000    738.63\n",
       "2999    741.19\n",
       "2998    736.96\n",
       "2997    733.78\n",
       "2996    719.85\n",
       "2995    720.95\n",
       "2994    716.98\n",
       "2993    720.64\n",
       "2992    715.09\n",
       "2991    705.63\n",
       "2990    695.36\n",
       "2989    697.77\n",
       "2988    694.49\n",
       "2987    699.21\n",
       "2986    692.10\n",
       "2985    684.11\n",
       "2984    680.04\n",
       "2983    668.26\n",
       "2982    675.22\n",
       "         ...  \n",
       "29       64.74\n",
       "28       65.47\n",
       "27       63.37\n",
       "26       59.07\n",
       "25       59.86\n",
       "24       60.35\n",
       "23       59.13\n",
       "22       58.86\n",
       "21       59.62\n",
       "20       58.69\n",
       "19       56.93\n",
       "18       55.94\n",
       "17       55.69\n",
       "16       53.70\n",
       "15       52.61\n",
       "14       51.10\n",
       "13       51.10\n",
       "12       50.74\n",
       "11       49.95\n",
       "10       50.70\n",
       "9        50.07\n",
       "8        51.13\n",
       "7        50.95\n",
       "6        53.02\n",
       "5        53.90\n",
       "4        52.95\n",
       "3        52.38\n",
       "2        54.65\n",
       "1        54.10\n",
       "0        50.12\n",
       "Name: Stock Price, Length: 3012, dtype: float64"
      ]
     },
     "execution_count": 63,
     "metadata": {},
     "output_type": "execute_result"
    }
   ],
   "source": [
    "google.sort_index(ascending=False, inplace = True)\n",
    "google"
   ]
  },
  {
   "cell_type": "markdown",
   "metadata": {},
   "source": [
    "# using Python's \"in\" keyword"
   ]
  },
  {
   "cell_type": "code",
   "execution_count": 66,
   "metadata": {},
   "outputs": [
    {
     "data": {
      "text/plain": [
       "False"
      ]
     },
     "execution_count": 66,
     "metadata": {},
     "output_type": "execute_result"
    }
   ],
   "source": [
    "#you can use \"in\" to see if a value in a list, using python's built-in \"in\" method\n",
    "11 in [1,2,3,4,5,6,7,8,9,10]"
   ]
  },
  {
   "cell_type": "code",
   "execution_count": 68,
   "metadata": {},
   "outputs": [
    {
     "data": {
      "text/plain": [
       "False"
      ]
     },
     "execution_count": 68,
     "metadata": {},
     "output_type": "execute_result"
    }
   ],
   "source": [
    "#but it won't work on this, like you might expect:\n",
    "pokemon.head(5)\n",
    "\"Bulbasaur\" in pokemon\n",
    "\n",
    "#why not?"
   ]
  },
  {
   "cell_type": "code",
   "execution_count": 69,
   "metadata": {},
   "outputs": [
    {
     "data": {
      "text/plain": [
       "True"
      ]
     },
     "execution_count": 69,
     "metadata": {},
     "output_type": "execute_result"
    }
   ],
   "source": [
    "#b/c pandas is searching the index of a series.  So, I could check it against the index or values.  For example\n",
    "\"Bulbasaur\" in pokemon.values"
   ]
  },
  {
   "cell_type": "markdown",
   "metadata": {},
   "source": [
    "# Extract values from a series based on its index position or label"
   ]
  },
  {
   "cell_type": "code",
   "execution_count": 70,
   "metadata": {},
   "outputs": [
    {
     "data": {
      "text/plain": [
       "96.67"
      ]
     },
     "execution_count": 70,
     "metadata": {},
     "output_type": "execute_result"
    }
   ],
   "source": [
    "#just use the name of the series and treat the value at its position in the list\n",
    "google[100]"
   ]
  },
  {
   "cell_type": "code",
   "execution_count": 73,
   "metadata": {},
   "outputs": [
    {
     "data": {
      "text/plain": [
       "100    96.67\n",
       "34     69.36\n",
       "76     85.63\n",
       "Name: Stock Price, dtype: float64"
      ]
     },
     "execution_count": 73,
     "metadata": {},
     "output_type": "execute_result"
    }
   ],
   "source": [
    "#you can get several values using a list in side of the list\n",
    "google[[100,34,76]]"
   ]
  },
  {
   "cell_type": "code",
   "execution_count": 74,
   "metadata": {},
   "outputs": [
    {
     "data": {
      "text/plain": [
       "2999    741.19\n",
       "2998    736.96\n",
       "2997    733.78\n",
       "2996    719.85\n",
       "2995    720.95\n",
       "2994    716.98\n",
       "2993    720.64\n",
       "2992    715.09\n",
       "Name: Stock Price, dtype: float64"
      ]
     },
     "execution_count": 74,
     "metadata": {},
     "output_type": "execute_result"
    }
   ],
   "source": [
    "#you can also get a range\n",
    "google[12:20]"
   ]
  },
  {
   "cell_type": "code",
   "execution_count": 78,
   "metadata": {},
   "outputs": [
    {
     "data": {
      "text/plain": [
       "9    50.07\n",
       "8    51.13\n",
       "7    50.95\n",
       "6    53.02\n",
       "5    53.90\n",
       "4    52.95\n",
       "3    52.38\n",
       "2    54.65\n",
       "1    54.10\n",
       "0    50.12\n",
       "Name: Stock Price, dtype: float64"
      ]
     },
     "execution_count": 78,
     "metadata": {},
     "output_type": "execute_result"
    }
   ],
   "source": [
    "#or get values from the end\n",
    "google[-10:]"
   ]
  },
  {
   "cell_type": "code",
   "execution_count": 79,
   "metadata": {},
   "outputs": [
    {
     "data": {
      "text/plain": [
       "3011    782.22\n",
       "3010    771.61\n",
       "3009    773.18\n",
       "3008    771.07\n",
       "3007    772.88\n",
       "3006    768.79\n",
       "3005    745.91\n",
       "3004    741.77\n",
       "3003    738.42\n",
       "3002    739.77\n",
       "3001    742.74\n",
       "3000    738.63\n",
       "2999    741.19\n",
       "2998    736.96\n",
       "2997    733.78\n",
       "Name: Stock Price, dtype: float64"
      ]
     },
     "execution_count": 79,
     "metadata": {},
     "output_type": "execute_result"
    }
   ],
   "source": [
    "#get everything up to a certain position\n",
    "google[:15]"
   ]
  },
  {
   "cell_type": "markdown",
   "metadata": {},
   "source": [
    "### getting data from a label"
   ]
  },
  {
   "cell_type": "code",
   "execution_count": 84,
   "metadata": {},
   "outputs": [
    {
     "data": {
      "text/plain": [
       "Pokemon\n",
       "Bulbasaur        Grass\n",
       "Ivysaur          Grass\n",
       "Venusaur         Grass\n",
       "Charmander        Fire\n",
       "Charmeleon        Fire\n",
       "Charizard         Fire\n",
       "Squirtle         Water\n",
       "Wartortle        Water\n",
       "Blastoise        Water\n",
       "Caterpie           Bug\n",
       "Metapod            Bug\n",
       "Butterfree         Bug\n",
       "Weedle             Bug\n",
       "Kakuna             Bug\n",
       "Beedrill           Bug\n",
       "Pidgey          Normal\n",
       "Pidgeotto       Normal\n",
       "Pidgeot         Normal\n",
       "Rattata         Normal\n",
       "Raticate        Normal\n",
       "Spearow         Normal\n",
       "Fearow          Normal\n",
       "Ekans           Poison\n",
       "Arbok           Poison\n",
       "Pikachu       Electric\n",
       "Raichu        Electric\n",
       "Sandshrew       Ground\n",
       "Sandslash       Ground\n",
       "Nidoran         Poison\n",
       "Nidorina        Poison\n",
       "                ...   \n",
       "Clauncher        Water\n",
       "Clawitzer        Water\n",
       "Helioptile    Electric\n",
       "Heliolisk     Electric\n",
       "Tyrunt            Rock\n",
       "Tyrantrum         Rock\n",
       "Amaura            Rock\n",
       "Aurorus           Rock\n",
       "Sylveon          Fairy\n",
       "Hawlucha      Fighting\n",
       "Dedenne       Electric\n",
       "Carbink           Rock\n",
       "Goomy           Dragon\n",
       "Sliggoo         Dragon\n",
       "Goodra          Dragon\n",
       "Klefki           Steel\n",
       "Phantump         Ghost\n",
       "Trevenant        Ghost\n",
       "Pumpkaboo        Ghost\n",
       "Gourgeist        Ghost\n",
       "Bergmite           Ice\n",
       "Avalugg            Ice\n",
       "Noibat          Flying\n",
       "Noivern         Flying\n",
       "Xerneas          Fairy\n",
       "Yveltal           Dark\n",
       "Zygarde         Dragon\n",
       "Diancie           Rock\n",
       "Hoopa          Psychic\n",
       "Volcanion         Fire\n",
       "Name: Type, Length: 721, dtype: object"
      ]
     },
     "execution_count": 84,
     "metadata": {},
     "output_type": "execute_result"
    }
   ],
   "source": [
    "#import column data as a series \n",
    "poke = pd.read_csv(\"../data/pandas/pokemon.csv\", index_col=\"Pokemon\", squeeze=True)\n",
    "poke"
   ]
  },
  {
   "cell_type": "code",
   "execution_count": 85,
   "metadata": {},
   "outputs": [
    {
     "data": {
      "text/plain": [
       "'Grass'"
      ]
     },
     "execution_count": 85,
     "metadata": {},
     "output_type": "execute_result"
    }
   ],
   "source": [
    "#even though there's no explicit index, there is one implicitly.\n",
    "poke[0]"
   ]
  },
  {
   "cell_type": "code",
   "execution_count": 87,
   "metadata": {},
   "outputs": [
    {
     "data": {
      "text/plain": [
       "Pokemon\n",
       "Bergmite         Ice\n",
       "Avalugg          Ice\n",
       "Noibat        Flying\n",
       "Noivern       Flying\n",
       "Xerneas        Fairy\n",
       "Yveltal         Dark\n",
       "Zygarde       Dragon\n",
       "Diancie         Rock\n",
       "Hoopa        Psychic\n",
       "Volcanion       Fire\n",
       "Name: Type, dtype: object"
      ]
     },
     "execution_count": 87,
     "metadata": {},
     "output_type": "execute_result"
    }
   ],
   "source": [
    "poke[-10:]"
   ]
  },
  {
   "cell_type": "code",
   "execution_count": 88,
   "metadata": {},
   "outputs": [
    {
     "data": {
      "text/plain": [
       "'Ice'"
      ]
     },
     "execution_count": 88,
     "metadata": {},
     "output_type": "execute_result"
    }
   ],
   "source": [
    "#this syntax also works for regular syntax labels.  e.g., \n",
    "poke['Avalugg']"
   ]
  },
  {
   "cell_type": "code",
   "execution_count": 90,
   "metadata": {},
   "outputs": [
    {
     "data": {
      "text/plain": [
       "Pokemon\n",
       "Xerneas      Fairy\n",
       "Diancie       Rock\n",
       "Volcanion     Fire\n",
       "Name: Type, dtype: object"
      ]
     },
     "execution_count": 90,
     "metadata": {},
     "output_type": "execute_result"
    }
   ],
   "source": [
    "#or for multiple extracts\n",
    "poke[['Xerneas','Diancie',\"Volcanion\"]]"
   ]
  },
  {
   "cell_type": "code",
   "execution_count": null,
   "metadata": {},
   "outputs": [],
   "source": []
  }
 ],
 "metadata": {
  "kernelspec": {
   "display_name": "Python 3",
   "language": "python",
   "name": "python3"
  },
  "language_info": {
   "codemirror_mode": {
    "name": "ipython",
    "version": 3
   },
   "file_extension": ".py",
   "mimetype": "text/x-python",
   "name": "python",
   "nbconvert_exporter": "python",
   "pygments_lexer": "ipython3",
   "version": "3.6.6"
  }
 },
 "nbformat": 4,
 "nbformat_minor": 2
}
