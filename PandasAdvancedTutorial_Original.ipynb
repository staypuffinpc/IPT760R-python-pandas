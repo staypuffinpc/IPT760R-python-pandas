{
 "cells": [
  {
   "cell_type": "code",
   "execution_count": 1,
   "metadata": {
    "collapsed": true
   },
   "outputs": [],
   "source": [
    "# code to anonymize my data by removing each email and name and \n",
    "# replacing it with a unique identifier\n",
    "\n",
    "import pandas as pd\n",
    "# df_fall = pd.read_csv('fall15datawithdashboard.csv',low_memory=False)\n",
    "\n",
    "# names = list(df_fall.name.unique())\n",
    "\n",
    "# count = 0\n",
    "# for name in names:\n",
    "#     df_fall.loc[df_fall.name == name,'email'] = count\n",
    "#     df_fall.loc[df_fall.name == name,'name'] = count\n",
    "#     count += 1\n",
    "\n",
    "# df_fall.to_csv('AdvancedPandasTutorial.csv',index=False)"
   ]
  },
  {
   "cell_type": "code",
   "execution_count": 2,
   "metadata": {
    "collapsed": false
   },
   "outputs": [],
   "source": [
    "#because data have mixed types, we have to use low_memory=False to avoid getting a DtypeWarning\n",
    "df_fall = pd.read_csv('AdvancedPandasTutorial.csv',low_memory=False)"
   ]
  },
  {
   "cell_type": "code",
   "execution_count": 3,
   "metadata": {
    "collapsed": false
   },
   "outputs": [
    {
     "ename": "OSError",
     "evalue": "File b'testcsv.csv' does not exist",
     "output_type": "error",
     "traceback": [
      "\u001b[0;31m---------------------------------------------------------------------------\u001b[0m",
      "\u001b[0;31mOSError\u001b[0m                                   Traceback (most recent call last)",
      "\u001b[0;32m<ipython-input-3-0e4d3e35959b>\u001b[0m in \u001b[0;36m<module>\u001b[0;34m()\u001b[0m\n\u001b[1;32m      4\u001b[0m \u001b[0;34m\u001b[0m\u001b[0m\n\u001b[1;32m      5\u001b[0m \u001b[0;31m#READ CSV\u001b[0m\u001b[0;34m\u001b[0m\u001b[0;34m\u001b[0m\u001b[0m\n\u001b[0;32m----> 6\u001b[0;31m \u001b[0mnamesdf\u001b[0m \u001b[0;34m=\u001b[0m \u001b[0mpd\u001b[0m\u001b[0;34m.\u001b[0m\u001b[0mread_csv\u001b[0m\u001b[0;34m(\u001b[0m\u001b[0;34m'testcsv.csv'\u001b[0m\u001b[0;34m)\u001b[0m\u001b[0;34m\u001b[0m\u001b[0m\n\u001b[0m\u001b[1;32m      7\u001b[0m \u001b[0;34m\u001b[0m\u001b[0m\n\u001b[1;32m      8\u001b[0m \u001b[0;31m#BOOLEAN INDEXING--ONLY KEEP CONSENTING STUDENTS (in a list)\u001b[0m\u001b[0;34m\u001b[0m\u001b[0;34m\u001b[0m\u001b[0m\n",
      "\u001b[0;32m/Users/peterrich/anaconda/lib/python3.5/site-packages/pandas/io/parsers.py\u001b[0m in \u001b[0;36mparser_f\u001b[0;34m(filepath_or_buffer, sep, delimiter, header, names, index_col, usecols, squeeze, prefix, mangle_dupe_cols, dtype, engine, converters, true_values, false_values, skipinitialspace, skiprows, skipfooter, nrows, na_values, keep_default_na, na_filter, verbose, skip_blank_lines, parse_dates, infer_datetime_format, keep_date_col, date_parser, dayfirst, iterator, chunksize, compression, thousands, decimal, lineterminator, quotechar, quoting, escapechar, comment, encoding, dialect, tupleize_cols, error_bad_lines, warn_bad_lines, skip_footer, doublequote, delim_whitespace, as_recarray, compact_ints, use_unsigned, low_memory, buffer_lines, memory_map, float_precision)\u001b[0m\n\u001b[1;32m    560\u001b[0m                     skip_blank_lines=skip_blank_lines)\n\u001b[1;32m    561\u001b[0m \u001b[0;34m\u001b[0m\u001b[0m\n\u001b[0;32m--> 562\u001b[0;31m         \u001b[0;32mreturn\u001b[0m \u001b[0m_read\u001b[0m\u001b[0;34m(\u001b[0m\u001b[0mfilepath_or_buffer\u001b[0m\u001b[0;34m,\u001b[0m \u001b[0mkwds\u001b[0m\u001b[0;34m)\u001b[0m\u001b[0;34m\u001b[0m\u001b[0m\n\u001b[0m\u001b[1;32m    563\u001b[0m \u001b[0;34m\u001b[0m\u001b[0m\n\u001b[1;32m    564\u001b[0m     \u001b[0mparser_f\u001b[0m\u001b[0;34m.\u001b[0m\u001b[0m__name__\u001b[0m \u001b[0;34m=\u001b[0m \u001b[0mname\u001b[0m\u001b[0;34m\u001b[0m\u001b[0m\n",
      "\u001b[0;32m/Users/peterrich/anaconda/lib/python3.5/site-packages/pandas/io/parsers.py\u001b[0m in \u001b[0;36m_read\u001b[0;34m(filepath_or_buffer, kwds)\u001b[0m\n\u001b[1;32m    313\u001b[0m \u001b[0;34m\u001b[0m\u001b[0m\n\u001b[1;32m    314\u001b[0m     \u001b[0;31m# Create the parser.\u001b[0m\u001b[0;34m\u001b[0m\u001b[0;34m\u001b[0m\u001b[0m\n\u001b[0;32m--> 315\u001b[0;31m     \u001b[0mparser\u001b[0m \u001b[0;34m=\u001b[0m \u001b[0mTextFileReader\u001b[0m\u001b[0;34m(\u001b[0m\u001b[0mfilepath_or_buffer\u001b[0m\u001b[0;34m,\u001b[0m \u001b[0;34m**\u001b[0m\u001b[0mkwds\u001b[0m\u001b[0;34m)\u001b[0m\u001b[0;34m\u001b[0m\u001b[0m\n\u001b[0m\u001b[1;32m    316\u001b[0m \u001b[0;34m\u001b[0m\u001b[0m\n\u001b[1;32m    317\u001b[0m     \u001b[0;32mif\u001b[0m \u001b[0;34m(\u001b[0m\u001b[0mnrows\u001b[0m \u001b[0;32mis\u001b[0m \u001b[0;32mnot\u001b[0m \u001b[0;32mNone\u001b[0m\u001b[0;34m)\u001b[0m \u001b[0;32mand\u001b[0m \u001b[0;34m(\u001b[0m\u001b[0mchunksize\u001b[0m \u001b[0;32mis\u001b[0m \u001b[0;32mnot\u001b[0m \u001b[0;32mNone\u001b[0m\u001b[0;34m)\u001b[0m\u001b[0;34m:\u001b[0m\u001b[0;34m\u001b[0m\u001b[0m\n",
      "\u001b[0;32m/Users/peterrich/anaconda/lib/python3.5/site-packages/pandas/io/parsers.py\u001b[0m in \u001b[0;36m__init__\u001b[0;34m(self, f, engine, **kwds)\u001b[0m\n\u001b[1;32m    643\u001b[0m             \u001b[0mself\u001b[0m\u001b[0;34m.\u001b[0m\u001b[0moptions\u001b[0m\u001b[0;34m[\u001b[0m\u001b[0;34m'has_index_names'\u001b[0m\u001b[0;34m]\u001b[0m \u001b[0;34m=\u001b[0m \u001b[0mkwds\u001b[0m\u001b[0;34m[\u001b[0m\u001b[0;34m'has_index_names'\u001b[0m\u001b[0;34m]\u001b[0m\u001b[0;34m\u001b[0m\u001b[0m\n\u001b[1;32m    644\u001b[0m \u001b[0;34m\u001b[0m\u001b[0m\n\u001b[0;32m--> 645\u001b[0;31m         \u001b[0mself\u001b[0m\u001b[0;34m.\u001b[0m\u001b[0m_make_engine\u001b[0m\u001b[0;34m(\u001b[0m\u001b[0mself\u001b[0m\u001b[0;34m.\u001b[0m\u001b[0mengine\u001b[0m\u001b[0;34m)\u001b[0m\u001b[0;34m\u001b[0m\u001b[0m\n\u001b[0m\u001b[1;32m    646\u001b[0m \u001b[0;34m\u001b[0m\u001b[0m\n\u001b[1;32m    647\u001b[0m     \u001b[0;32mdef\u001b[0m \u001b[0mclose\u001b[0m\u001b[0;34m(\u001b[0m\u001b[0mself\u001b[0m\u001b[0;34m)\u001b[0m\u001b[0;34m:\u001b[0m\u001b[0;34m\u001b[0m\u001b[0m\n",
      "\u001b[0;32m/Users/peterrich/anaconda/lib/python3.5/site-packages/pandas/io/parsers.py\u001b[0m in \u001b[0;36m_make_engine\u001b[0;34m(self, engine)\u001b[0m\n\u001b[1;32m    797\u001b[0m     \u001b[0;32mdef\u001b[0m \u001b[0m_make_engine\u001b[0m\u001b[0;34m(\u001b[0m\u001b[0mself\u001b[0m\u001b[0;34m,\u001b[0m \u001b[0mengine\u001b[0m\u001b[0;34m=\u001b[0m\u001b[0;34m'c'\u001b[0m\u001b[0;34m)\u001b[0m\u001b[0;34m:\u001b[0m\u001b[0;34m\u001b[0m\u001b[0m\n\u001b[1;32m    798\u001b[0m         \u001b[0;32mif\u001b[0m \u001b[0mengine\u001b[0m \u001b[0;34m==\u001b[0m \u001b[0;34m'c'\u001b[0m\u001b[0;34m:\u001b[0m\u001b[0;34m\u001b[0m\u001b[0m\n\u001b[0;32m--> 799\u001b[0;31m             \u001b[0mself\u001b[0m\u001b[0;34m.\u001b[0m\u001b[0m_engine\u001b[0m \u001b[0;34m=\u001b[0m \u001b[0mCParserWrapper\u001b[0m\u001b[0;34m(\u001b[0m\u001b[0mself\u001b[0m\u001b[0;34m.\u001b[0m\u001b[0mf\u001b[0m\u001b[0;34m,\u001b[0m \u001b[0;34m**\u001b[0m\u001b[0mself\u001b[0m\u001b[0;34m.\u001b[0m\u001b[0moptions\u001b[0m\u001b[0;34m)\u001b[0m\u001b[0;34m\u001b[0m\u001b[0m\n\u001b[0m\u001b[1;32m    800\u001b[0m         \u001b[0;32melse\u001b[0m\u001b[0;34m:\u001b[0m\u001b[0;34m\u001b[0m\u001b[0m\n\u001b[1;32m    801\u001b[0m             \u001b[0;32mif\u001b[0m \u001b[0mengine\u001b[0m \u001b[0;34m==\u001b[0m \u001b[0;34m'python'\u001b[0m\u001b[0;34m:\u001b[0m\u001b[0;34m\u001b[0m\u001b[0m\n",
      "\u001b[0;32m/Users/peterrich/anaconda/lib/python3.5/site-packages/pandas/io/parsers.py\u001b[0m in \u001b[0;36m__init__\u001b[0;34m(self, src, **kwds)\u001b[0m\n\u001b[1;32m   1211\u001b[0m         \u001b[0mkwds\u001b[0m\u001b[0;34m[\u001b[0m\u001b[0;34m'allow_leading_cols'\u001b[0m\u001b[0;34m]\u001b[0m \u001b[0;34m=\u001b[0m \u001b[0mself\u001b[0m\u001b[0;34m.\u001b[0m\u001b[0mindex_col\u001b[0m \u001b[0;32mis\u001b[0m \u001b[0;32mnot\u001b[0m \u001b[0;32mFalse\u001b[0m\u001b[0;34m\u001b[0m\u001b[0m\n\u001b[1;32m   1212\u001b[0m \u001b[0;34m\u001b[0m\u001b[0m\n\u001b[0;32m-> 1213\u001b[0;31m         \u001b[0mself\u001b[0m\u001b[0;34m.\u001b[0m\u001b[0m_reader\u001b[0m \u001b[0;34m=\u001b[0m \u001b[0m_parser\u001b[0m\u001b[0;34m.\u001b[0m\u001b[0mTextReader\u001b[0m\u001b[0;34m(\u001b[0m\u001b[0msrc\u001b[0m\u001b[0;34m,\u001b[0m \u001b[0;34m**\u001b[0m\u001b[0mkwds\u001b[0m\u001b[0;34m)\u001b[0m\u001b[0;34m\u001b[0m\u001b[0m\n\u001b[0m\u001b[1;32m   1214\u001b[0m \u001b[0;34m\u001b[0m\u001b[0m\n\u001b[1;32m   1215\u001b[0m         \u001b[0;31m# XXX\u001b[0m\u001b[0;34m\u001b[0m\u001b[0;34m\u001b[0m\u001b[0m\n",
      "\u001b[0;32mpandas/parser.pyx\u001b[0m in \u001b[0;36mpandas.parser.TextReader.__cinit__ (pandas/parser.c:3427)\u001b[0;34m()\u001b[0m\n",
      "\u001b[0;32mpandas/parser.pyx\u001b[0m in \u001b[0;36mpandas.parser.TextReader._setup_parser_source (pandas/parser.c:6861)\u001b[0;34m()\u001b[0m\n",
      "\u001b[0;31mOSError\u001b[0m: File b'testcsv.csv' does not exist"
     ]
    }
   ],
   "source": [
    "#BOOLEAN INDEXING\n",
    "#keep only records with a \"verb\" of \"clicked\"\n",
    "fall15dashboard = df_fall[df_fall.verb == 'clicked'].copy()\n",
    "\n",
    "#READ CSV\n",
    "namesdf = pd.read_csv('testcsv.csv')\n",
    "\n",
    "#BOOLEAN INDEXING--ONLY KEEP CONSENTING STUDENTS (in a list)\n",
    "#df[df.column == something][desired_column_afterwards]\n",
    "emails = list(namesdf[namesdf['Consent Name'] == namesdf['Consent Name']]['LTI Email'])\n",
    "\n",
    "#.isin operator allows you to see if a column is in a list\n",
    "#fall15dashboard = fall15dashboard[fall15dashboard.email.isin(emails)].copy()\n",
    "\n",
    "#pd.to_datetime creates a datetime date\n",
    "fall_ex2_start = pd.to_datetime('10/22/2015')\n",
    "\n",
    "#changes the timestamp column to a datetime format\n",
    "fall15dashboard.timestamp = pd.to_datetime(fall15dashboard.timestamp)\n",
    "\n",
    "#now that fall_ex2_start and timestamp are both datetimes, we can use them in boolean indexing\n",
    "fall15dashboard = fall15dashboard[fall15dashboard.timestamp > fall_ex2_start].copy()"
   ]
  },
  {
   "cell_type": "code",
   "execution_count": 4,
   "metadata": {
    "collapsed": false
   },
   "outputs": [
    {
     "data": {
      "text/plain": [
       "3      354\n",
       "2      225\n",
       "0      218\n",
       "58     218\n",
       "63     165\n",
       "27     159\n",
       "59     129\n",
       "148     89\n",
       "1       83\n",
       "121     72\n",
       "149     66\n",
       "101     62\n",
       "108     59\n",
       "29      53\n",
       "67      53\n",
       "85      48\n",
       "83      45\n",
       "106     44\n",
       "6       42\n",
       "51      42\n",
       "34      39\n",
       "156     37\n",
       "155     37\n",
       "45      36\n",
       "25      34\n",
       "31      33\n",
       "96      32\n",
       "8       32\n",
       "79      32\n",
       "21      31\n",
       "      ... \n",
       "90      10\n",
       "139     10\n",
       "135      9\n",
       "77       9\n",
       "23       9\n",
       "57       9\n",
       "49       8\n",
       "41       8\n",
       "20       8\n",
       "124      7\n",
       "154      7\n",
       "60       6\n",
       "89       5\n",
       "143      4\n",
       "32       4\n",
       "7        4\n",
       "84       3\n",
       "24       3\n",
       "107      3\n",
       "55       3\n",
       "18       2\n",
       "16       2\n",
       "14       2\n",
       "144      2\n",
       "128      2\n",
       "80       2\n",
       "133      2\n",
       "33       1\n",
       "95       1\n",
       "127      1\n",
       "Name: name, dtype: int64"
      ]
     },
     "execution_count": 4,
     "metadata": {},
     "output_type": "execute_result"
    }
   ],
   "source": [
    "#A pandas series .value_counts() will give you the number of times each number appears\n",
    "fall15dashboard.name.value_counts()"
   ]
  },
  {
   "cell_type": "code",
   "execution_count": 5,
   "metadata": {
    "collapsed": true
   },
   "outputs": [],
   "source": [
    "#code to import visualization library\n",
    "import matplotlib\n",
    "%matplotlib inline"
   ]
  },
  {
   "cell_type": "code",
   "execution_count": 6,
   "metadata": {
    "collapsed": false
   },
   "outputs": [
    {
     "data": {
      "text/plain": [
       "<matplotlib.axes._subplots.AxesSubplot at 0x116d535c0>"
      ]
     },
     "execution_count": 6,
     "metadata": {},
     "output_type": "execute_result"
    },
    {
     "data": {
      "image/png": "[encoded data removed]",
      "text/plain": [
       "<matplotlib.figure.Figure at 0x116508cc0>"
      ]
     },
     "metadata": {},
     "output_type": "display_data"
    }
   ],
   "source": [
    "#using value_counts() and hist() in the same function\n",
    "#this gives me a histogram for the # of click events at the student level\n",
    "fall15dashboard.name.value_counts().hist()"
   ]
  },
  {
   "cell_type": "code",
   "execution_count": 8,
   "metadata": {
    "collapsed": false
   },
   "outputs": [
    {
     "name": "stdout",
     "output_type": "stream",
     "text": [
      "84\n"
     ]
    }
   ],
   "source": [
    "#Number of students that accessed the dashboards (click events greater than 0)\n",
    "print (fall15dashboard.name.value_counts().count())"
   ]
  },
  {
   "cell_type": "code",
   "execution_count": 9,
   "metadata": {
    "collapsed": false
   },
   "outputs": [
    {
     "data": {
      "text/plain": [
       "3184"
      ]
     },
     "execution_count": 9,
     "metadata": {},
     "output_type": "execute_result"
    }
   ],
   "source": [
    "#.count() gives me the total number of records or cases in a dataset\n",
    "fall15dashboard.timestamp.count()"
   ]
  },
  {
   "cell_type": "code",
   "execution_count": 10,
   "metadata": {
    "collapsed": false
   },
   "outputs": [
    {
     "data": {
      "text/plain": [
       "<matplotlib.axes._subplots.AxesSubplot at 0x118162208>"
      ]
     },
     "execution_count": 10,
     "metadata": {},
     "output_type": "execute_result"
    },
    {
     "data": {
      "image/png": "[encoded data removed]",
      "text/plain": [
       "<matplotlib.figure.Figure at 0x118075978>"
      ]
     },
     "metadata": {},
     "output_type": "display_data"
    }
   ],
   "source": [
    "#sort values using the .sort_values(['desired_column']) command to sort dataframe\n",
    "testfall = fall15dashboard.sort_values(['name','timestamp']).copy()\n",
    "testfall.timestamp = pd.to_datetime(testfall.timestamp)\n",
    "\n",
    "#use .apply or .map (lambda x: ) when you want to perform something to each value in a pandas column or series\n",
    "#here I want to graph student activity in the dashboard over time (using timestamps)\n",
    "testfall['month'] = testfall.timestamp.apply(lambda x: x.month * 30.25)\n",
    "testfall['day'] = testfall.timestamp.apply(lambda x: x.day)\n",
    "testfall['month_day'] = testfall.month + testfall.day\n",
    "testfall.month_day.value_counts().sort_index().plot()"
   ]
  },
  {
   "cell_type": "code",
   "execution_count": 11,
   "metadata": {
    "collapsed": false
   },
   "outputs": [
    {
     "name": "stdout",
     "output_type": "stream",
     "text": [
      "percent of students each semester with greater than 25 clicks\n",
      "0.404761904762\n"
     ]
    }
   ],
   "source": [
    "#percent of students with greater than 25 clicks\n",
    "#more complicated Boolean indexing. What does this do if emails is the number of students?\n",
    "print (\"percent of students each semester with greater than 25 clicks\")\n",
    "print (fall15dashboard.name.value_counts()[fall15dashboard.name.value_counts().values > 25].count() / float(len(fall15dashboard.name.unique())))"
   ]
  },
  {
   "cell_type": "code",
   "execution_count": 12,
   "metadata": {
    "collapsed": false
   },
   "outputs": [
    {
     "name": "stdout",
     "output_type": "stream",
     "text": [
      "percent of students each semester with greater than 50 clicks\n",
      "0.178571428571\n"
     ]
    }
   ],
   "source": [
    "#percent of students with greater than 50 clicks\n",
    "print (\"percent of students each semester with greater than 50 clicks\")\n",
    "print (fall15dashboard.name.value_counts()[fall15dashboard.name.value_counts().values > 50].count() / float(len(fall15dashboard.name.unique())))"
   ]
  },
  {
   "cell_type": "code",
   "execution_count": 13,
   "metadata": {
    "collapsed": false
   },
   "outputs": [
    {
     "name": "stdout",
     "output_type": "stream",
     "text": [
      "percent of students each semester with greater than 100 clicks\n",
      "0.0833333333333\n"
     ]
    }
   ],
   "source": [
    "#percent of students with greater than 100 clicks\n",
    "print (\"percent of students each semester with greater than 100 clicks\")\n",
    "print (fall15dashboard.name.value_counts()[fall15dashboard.name.value_counts().values > 100].count() / float(len(fall15dashboard.name.unique())))"
   ]
  },
  {
   "cell_type": "code",
   "execution_count": 14,
   "metadata": {
    "collapsed": false
   },
   "outputs": [],
   "source": [
    "#I'm trying to identify whether our changes made students use the dashboards more frequently\n",
    "#Calculate student use for the first exam they had access to the dashboard\n",
    "#Then calculate student use for the second exam they had access to the dashboard\n",
    "fall15dashboard.timestamp = pd.to_datetime(fall15dashboard.timestamp)\n",
    "\n",
    "#creating dates based on exam dates\n",
    "fall_ex1_start = pd.to_datetime('08/31/2015')\n",
    "fall_ex2_start = pd.to_datetime('10/22/2015')\n",
    "fall_ex3_start = pd.to_datetime('11/14/2015')\n",
    "fall_ex4_start = pd.to_datetime('12/05/2015')\n",
    "fall_end = pd.to_datetime('12/18/2015')"
   ]
  },
  {
   "cell_type": "code",
   "execution_count": 15,
   "metadata": {
    "collapsed": false
   },
   "outputs": [
    {
     "name": "stdout",
     "output_type": "stream",
     "text": [
      "1925\n",
      "557\n",
      "677\n"
     ]
    }
   ],
   "source": [
    "#more complicated boolean indexing\n",
    "#this will print the number of dashboard events during each time period\n",
    "print (fall15dashboard[fall15dashboard.timestamp < fall_ex3_start].timestamp.count())\n",
    "print (fall15dashboard[(fall15dashboard.timestamp < fall_ex4_start)&(fall15dashboard.timestamp > fall_ex3_start)].timestamp.count())\n",
    "print (fall15dashboard[(fall15dashboard.timestamp < fall_end)&(fall15dashboard.timestamp > fall_ex4_start)].timestamp.count())"
   ]
  },
  {
   "cell_type": "code",
   "execution_count": 16,
   "metadata": {
    "collapsed": false
   },
   "outputs": [],
   "source": [
    "number_of_questions_fall = len(df_fall[df_fall.verb == 'answered'].object.unique())"
   ]
  },
  {
   "cell_type": "code",
   "execution_count": 19,
   "metadata": {
    "collapsed": false
   },
   "outputs": [
    {
     "name": "stdout",
     "output_type": "stream",
     "text": [
      "watched             2.524294\n",
      "answered            0.963045\n",
      "attempted           0.651676\n",
      "played              0.515831\n",
      "suspended           0.371796\n",
      "paused              0.329924\n",
      "jumped              0.265248\n",
      "started             0.208042\n",
      "ended               0.149551\n",
      "launched            0.117907\n",
      "completed           0.083659\n",
      "showed_answer       0.081072\n",
      "changed_playrate    0.062945\n",
      "clicked             0.054550\n",
      "showed_hint         0.042421\n",
      "minimized           0.031576\n",
      "changed_volume      0.008241\n",
      "exited              0.006459\n",
      "Name: verb, dtype: float64\n"
     ]
    },
    {
     "data": {
      "text/plain": [
       "<matplotlib.axes._subplots.AxesSubplot at 0x1158bc2e8>"
      ]
     },
     "execution_count": 19,
     "metadata": {},
     "output_type": "execute_result"
    },
    {
     "data": {
      "image/png": "[encoded data removed]",
      "text/plain": [
       "<matplotlib.figure.Figure at 0x118216da0>"
      ]
     },
     "metadata": {},
     "output_type": "display_data"
    }
   ],
   "source": [
    "#quiz and video activity\n",
    "#number of events per question per student\n",
    "print ((df_fall.verb.value_counts() / float(number_of_questions_fall) / len(df_fall.name.unique())))\n",
    "(df_fall.verb.value_counts() / float(number_of_questions_fall) / len(df_fall.name.unique())).plot(kind='bar')"
   ]
  },
  {
   "cell_type": "code",
   "execution_count": 20,
   "metadata": {
    "collapsed": false
   },
   "outputs": [
    {
     "data": {
      "text/plain": [
       "<matplotlib.axes._subplots.AxesSubplot at 0x118364e80>"
      ]
     },
     "execution_count": 20,
     "metadata": {},
     "output_type": "execute_result"
    },
    {
     "data": {
      "image/png": "[encoded data removed]",
      "text/plain": [
       "<matplotlib.figure.Figure at 0x118120cc0>"
      ]
     },
     "metadata": {},
     "output_type": "display_data"
    }
   ],
   "source": [
    "df_fall.name.value_counts().plot(kind='kde')"
   ]
  },
  {
   "cell_type": "code",
   "execution_count": 21,
   "metadata": {
    "collapsed": false
   },
   "outputs": [
    {
     "data": {
      "text/plain": [
       "<matplotlib.axes._subplots.AxesSubplot at 0x11b341978>"
      ]
     },
     "execution_count": 21,
     "metadata": {},
     "output_type": "execute_result"
    },
    {
     "data": {
      "image/png": "[encoded data removed]",
      "text/plain": [
       "<matplotlib.figure.Figure at 0x11b34f2b0>"
      ]
     },
     "metadata": {},
     "output_type": "display_data"
    }
   ],
   "source": [
    "df_fall.name.value_counts().plot(kind='hist')"
   ]
  },
  {
   "cell_type": "code",
   "execution_count": 23,
   "metadata": {
    "collapsed": false
   },
   "outputs": [
    {
     "data": {
      "text/plain": [
       "array([<matplotlib.axes._subplots.AxesSubplot object at 0x125798400>,\n",
       "       <matplotlib.axes._subplots.AxesSubplot object at 0x12d67af98>,\n",
       "       <matplotlib.axes._subplots.AxesSubplot object at 0x128826f28>,\n",
       "       <matplotlib.axes._subplots.AxesSubplot object at 0x12893b320>,\n",
       "       <matplotlib.axes._subplots.AxesSubplot object at 0x12890a240>,\n",
       "       <matplotlib.axes._subplots.AxesSubplot object at 0x129059390>,\n",
       "       <matplotlib.axes._subplots.AxesSubplot object at 0x12876c390>,\n",
       "       <matplotlib.axes._subplots.AxesSubplot object at 0x128766a90>], dtype=object)"
      ]
     },
     "execution_count": 23,
     "metadata": {},
     "output_type": "execute_result"
    },
    {
     "data": {
      "image/png": "[encoded data removed]",
      "text/plain": [
       "<matplotlib.figure.Figure at 0x118188da0>"
      ]
     },
     "metadata": {},
     "output_type": "display_data"
    }
   ],
   "source": [
    "#subplots = True means it will create a separate plot for each column in the dataframe\n",
    "df_fall.plot(kind='hist',subplots=True)"
   ]
  },
  {
   "cell_type": "code",
   "execution_count": null,
   "metadata": {
    "collapsed": true
   },
   "outputs": [],
   "source": [
    "#see more graphing documentation here:\n",
    "#http://pandas.pydata.org/pandas-docs/stable/generated/pandas.DataFrame.plot.html"
   ]
  }
 ],
 "metadata": {
  "anaconda-cloud": {},
  "kernelspec": {
   "display_name": "Python [Root]",
   "language": "python",
   "name": "Python [Root]"
  },
  "language_info": {
   "codemirror_mode": {
    "name": "ipython",
    "version": 3
   },
   "file_extension": ".py",
   "mimetype": "text/x-python",
   "name": "python",
   "nbconvert_exporter": "python",
   "pygments_lexer": "ipython3",
   "version": "3.5.2"
  }
 },
 "nbformat": 4,
 "nbformat_minor": 0
}
